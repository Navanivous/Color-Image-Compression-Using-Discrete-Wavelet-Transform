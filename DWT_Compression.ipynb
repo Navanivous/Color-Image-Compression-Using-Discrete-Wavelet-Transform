{
 "cells": [
  {
   "cell_type": "code",
   "execution_count": 10,
   "metadata": {
    "notebookRunGroups": {
     "groupValue": "1"
    }
   },
   "outputs": [],
   "source": [
    "import numpy as np\n",
    "import cv2\n",
    "import pywt\n",
    "from PIL import Image"
   ]
  },
  {
   "cell_type": "code",
   "execution_count": 11,
   "metadata": {
    "notebookRunGroups": {
     "groupValue": "1"
    }
   },
   "outputs": [
    {
     "data": {
      "text/plain": [
       "True"
      ]
     },
     "execution_count": 11,
     "metadata": {},
     "output_type": "execute_result"
    }
   ],
   "source": [
    "\"quantized_image.jpg\"\n",
    "\"Original-Lena-image.png\"\n",
    "img= cv2.imread(\"quantized_image.jpg\")\n",
    "cv2.namedWindow(\"image\",cv2.WINDOW_NORMAL)\n",
    "cv2.resizeWindow(\"image\",600,400)\n",
    "cv2.imshow(\"image\",img)\n",
    "cv2.waitKey(0)\n",
    "cv2.destroyAllWindows()\n",
    "cv2.imwrite(\"oimage.jpg\",img)"
   ]
  },
  {
   "cell_type": "code",
   "execution_count": 12,
   "metadata": {
    "notebookRunGroups": {
     "groupValue": "1"
    }
   },
   "outputs": [],
   "source": [
    "YCrCb_img = cv2.cvtColor(img, cv2.COLOR_BGR2YCrCb)\n",
    "cv2.namedWindow(\"image\",cv2.WINDOW_NORMAL)\n",
    "cv2.resizeWindow(\"image\",600,400)\n",
    "cv2.imshow(\"image\",YCrCb_img)\n",
    "cv2.waitKey(0)\n",
    "cv2.destroyAllWindows()"
   ]
  },
  {
   "cell_type": "code",
   "execution_count": 13,
   "metadata": {
    "notebookRunGroups": {
     "groupValue": "1"
    }
   },
   "outputs": [],
   "source": [
    "Thres_ratio = 0.2\n",
    "y,cr,cb = cv2.split(YCrCb_img)\n",
    "y_coeff = pywt.dwt2(y,'bior2.2')\n",
    "cr_coeff = pywt.dwt2(cr,'bior2.2')\n",
    "cb_coeff = pywt.dwt2(cb,'bior2.2')\n",
    "compressed_y = pywt.threshold(y_coeff[0],Thres_ratio*np.max(y_coeff[0]), mode='soft'),pywt.threshold(y_coeff[1],Thres_ratio*np.max(y_coeff[1]), mode='soft')\n",
    "compressed_cr = pywt.threshold(cr_coeff[0],Thres_ratio*np.max(cr_coeff[0]), mode='soft'), pywt.threshold(cr_coeff[1],Thres_ratio*np.max(cr_coeff[1]), mode='soft')\n",
    "compressed_cb = pywt.threshold(cb_coeff[0],Thres_ratio*np.max(cb_coeff[0]), mode='soft'),pywt.threshold(cb_coeff[1],Thres_ratio*np.max(cb_coeff[1]), mode='soft')\n"
   ]
  },
  {
   "cell_type": "code",
   "execution_count": 14,
   "metadata": {
    "notebookRunGroups": {
     "groupValue": "1"
    }
   },
   "outputs": [
    {
     "name": "stdout",
     "output_type": "stream",
     "text": [
      "[[0 0 0 ... 3 3 3]\n",
      " [0 0 0 ... 3 3 3]\n",
      " [0 0 0 ... 3 3 3]\n",
      " ...\n",
      " [0 0 0 ... 0 0 0]\n",
      " [0 0 0 ... 0 0 0]\n",
      " [0 0 0 ... 0 0 0]]\n",
      "(3202, 4800, 3)\n",
      "46108800\n",
      "46108800\n"
     ]
    },
    {
     "data": {
      "text/plain": [
       "True"
      ]
     },
     "execution_count": 14,
     "metadata": {},
     "output_type": "execute_result"
    }
   ],
   "source": [
    "uncompressed_y = np.uint8(pywt.idwt2(compressed_y, 'bior2.2'))\n",
    "uncompressed_cr=np.uint8(pywt.idwt2(cr_coeff,'bior2.2'))\n",
    "uncompressed_cb=np.uint8(pywt.idwt2(cb_coeff,'bior2.2'))\n",
    "print(uncompressed_y)\n",
    "rec = cv2.merge([uncompressed_y,uncompressed_cr,uncompressed_cb])\n",
    "rec = cv2.cvtColor(rec,cv2.COLOR_YCrCb2BGR)\n",
    "print(rec.shape)\n",
    "print(rec.size)\n",
    "print(img.size)\n",
    "cv2.namedWindow(\"image\",cv2.WINDOW_NORMAL)\n",
    "cv2.resizeWindow(\"image\",600,400)\n",
    "cv2.imshow(\"image\",rec)\n",
    "cv2.waitKey(0)\n",
    "cv2.destroyAllWindows()\n",
    "cv2.imwrite(\"reconstructed.jpg\",rec)"
   ]
  }
 ],
 "metadata": {
  "kernelspec": {
   "display_name": "Python 3",
   "language": "python",
   "name": "python3"
  },
  "language_info": {
   "codemirror_mode": {
    "name": "ipython",
    "version": 3
   },
   "file_extension": ".py",
   "mimetype": "text/x-python",
   "name": "python",
   "nbconvert_exporter": "python",
   "pygments_lexer": "ipython3",
   "version": "3.12.0"
  }
 },
 "nbformat": 4,
 "nbformat_minor": 2
}
